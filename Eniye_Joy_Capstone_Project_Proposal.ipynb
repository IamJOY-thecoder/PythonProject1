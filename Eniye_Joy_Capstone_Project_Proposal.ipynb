{
  "nbformat": 4,
  "nbformat_minor": 0,
  "metadata": {
    "colab": {
      "name": "Eniye_Joy Capstone Project Proposal",
      "provenance": [],
      "authorship_tag": "ABX9TyOg6qrjq1k3cnJWMsnrD+Qj",
      "include_colab_link": true
    },
    "kernelspec": {
      "name": "python3",
      "display_name": "Python 3"
    }
  },
  "cells": [
    {
      "cell_type": "markdown",
      "metadata": {
        "id": "view-in-github",
        "colab_type": "text"
      },
      "source": [
        "<a href=\"https://colab.research.google.com/github/IamJOY-thecoder/PythonProject1/blob/master/Eniye_Joy_Capstone_Project_Proposal.ipynb\" target=\"_parent\"><img src=\"https://colab.research.google.com/assets/colab-badge.svg\" alt=\"Open In Colab\"/></a>"
      ]
    },
    {
      "cell_type": "code",
      "metadata": {
        "id": "b6vRJzOGWfab",
        "colab_type": "code",
        "colab": {
          "base_uri": "https://localhost:8080/",
          "height": 454
        },
        "outputId": "0c20ddd8-3864-4d14-d81e-28f582d24fbe"
      },
      "source": [
        "!pip install pandas\n",
        "!pip install sodapy\n",
        "!pip install xlrd\n",
        "import pandas as pd\n",
        "import numpy as np\n",
        "import matplotlib.pyplot as plt\n",
        "import seaborn as sns\n",
        "from numpy import unique\n",
        "from sodapy import Socrata\n",
        "\n",
        "missing_values = ['na', 's']\n",
        "\n",
        "df = pd.read_csv('https://data.ct.gov/api/views/rybz-nyjw/rows.csv?accessType=DOWNLOAD', na_values = missing_values)\n",
        "df\n",
        "df.info"
      ],
      "execution_count": 5,
      "outputs": [
        {
          "output_type": "stream",
          "text": [
            "Requirement already satisfied: pandas in /usr/local/lib/python3.6/dist-packages (1.0.5)\n",
            "Requirement already satisfied: python-dateutil>=2.6.1 in /usr/local/lib/python3.6/dist-packages (from pandas) (2.8.1)\n",
            "Requirement already satisfied: pytz>=2017.2 in /usr/local/lib/python3.6/dist-packages (from pandas) (2018.9)\n",
            "Requirement already satisfied: numpy>=1.13.3 in /usr/local/lib/python3.6/dist-packages (from pandas) (1.18.5)\n",
            "Requirement already satisfied: six>=1.5 in /usr/local/lib/python3.6/dist-packages (from python-dateutil>=2.6.1->pandas) (1.15.0)\n",
            "Requirement already satisfied: sodapy in /usr/local/lib/python3.6/dist-packages (2.1.0)\n",
            "Requirement already satisfied: requests>=2.20.0 in /usr/local/lib/python3.6/dist-packages (from sodapy) (2.23.0)\n",
            "Requirement already satisfied: urllib3!=1.25.0,!=1.25.1,<1.26,>=1.21.1 in /usr/local/lib/python3.6/dist-packages (from requests>=2.20.0->sodapy) (1.24.3)\n",
            "Requirement already satisfied: certifi>=2017.4.17 in /usr/local/lib/python3.6/dist-packages (from requests>=2.20.0->sodapy) (2020.6.20)\n",
            "Requirement already satisfied: chardet<4,>=3.0.2 in /usr/local/lib/python3.6/dist-packages (from requests>=2.20.0->sodapy) (3.0.4)\n",
            "Requirement already satisfied: idna<3,>=2.5 in /usr/local/lib/python3.6/dist-packages (from requests>=2.20.0->sodapy) (2.10)\n",
            "Requirement already satisfied: xlrd in /usr/local/lib/python3.6/dist-packages (1.1.0)\n"
          ],
          "name": "stdout"
        },
        {
          "output_type": "execute_result",
          "data": {
            "text/plain": [
              "<bound method DataFrame.info of            ID  ...                               InjuryCityGeo\n",
              "0     14-0273  ...                 CT\\n(41.575155, -72.738288)\n",
              "1     13-0102  ...                 CT\\n(41.575155, -72.738288)\n",
              "2     16-0165  ...                                         NaN\n",
              "3     16-0208  ...                                         NaN\n",
              "4     13-0052  ...                 CT\\n(41.575155, -72.738288)\n",
              "...       ...  ...                                         ...\n",
              "5100  15-0466  ...                 CT\\n(41.575155, -72.738288)\n",
              "5101  17-0618  ...                 CT\\n(41.575155, -72.738288)\n",
              "5102  18-0646  ...        DANBURY, CT\\n(41.393666, -73.451539)\n",
              "5103  14-0124  ...                 CT\\n(41.575155, -72.738288)\n",
              "5104  16-0637  ...  WATERBURY, CT, CT\\n(41.554261, -73.043069)\n",
              "\n",
              "[5105 rows x 41 columns]>"
            ]
          },
          "metadata": {
            "tags": []
          },
          "execution_count": 5
        }
      ]
    }
  ]
}