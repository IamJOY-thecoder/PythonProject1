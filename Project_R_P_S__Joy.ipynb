{
  "nbformat": 4,
  "nbformat_minor": 0,
  "metadata": {
    "colab": {
      "name": "Project_R_P_S_-Joy.ipynb",
      "provenance": [],
      "collapsed_sections": [],
      "include_colab_link": true
    },
    "kernelspec": {
      "name": "python3",
      "display_name": "Python 3"
    }
  },
  "cells": [
    {
      "cell_type": "markdown",
      "metadata": {
        "id": "view-in-github",
        "colab_type": "text"
      },
      "source": [
        "<a href=\"https://colab.research.google.com/github/IamJOY-thecoder/PythonProject1/blob/master/Project_R_P_S__Joy.ipynb\" target=\"_parent\"><img src=\"https://colab.research.google.com/assets/colab-badge.svg\" alt=\"Open In Colab\"/></a>"
      ]
    },
    {
      "cell_type": "code",
      "metadata": {
        "id": "JD2IPda5NxM-",
        "colab_type": "code",
        "colab": {
          "base_uri": "https://localhost:8080/",
          "height": 374
        },
        "outputId": "4c9241e0-7e50-4776-9344-06d0b3d4f678"
      },
      "source": [
        "#@PYTHON PROJECT: ROCK,PAPER,SCISSORS.  DUE DATE: 7/17/2020\n",
        "print(\"Let's play ROCK, PAPER, SCISSORS!\")\n",
        "newgame = 'Yes'\n",
        "\n",
        "while newgame != 'No':\n",
        "  player_1 = input('Rock, Paper, Scissors, please choose: ')  \n",
        "  \n",
        "  if player_1 in ['ROCK','Rock', 'rock', 'r', 'R']:\n",
        "       player_1 = 'r'\n",
        "  elif player_1 in ['PAPER','Paper', 'paper', 'p', 'P']:\n",
        "       player_1 = 'p'\n",
        "  elif player_1 in ['SCISSORS','Scissors', 'scissors', 's', 'S']:\n",
        "      player_1 = 's'\n",
        "  else:\n",
        "      print(\"Invalid entry, please try again!\")\n",
        "    \n",
        "  player_2 = input('Rock, Paper, Scissors, please choose: ')\n",
        "  \n",
        "  if player_2 in ['ROCK','Rock', 'rock', 'r', 'R']:\n",
        "       player_2 = 'r'\n",
        "  elif player_2 in ['PAPER','Paper', 'paper', 'p', 'P']:\n",
        "       player_2 = 'p'\n",
        "  elif player_2 in ['SCISSORS','Scissors', 'scissors', 's', 'S']:\n",
        "      player_2 = 's'\n",
        "  else:\n",
        "      print(\"Invalid entry, please try again!\")\n",
        "  \n",
        "  choices = [player_1, player_2]\n",
        "  \n",
        "  if (player_1 == 'r' and player_2 == 'r') or (player_1 == 's' and player_2 == 's') or (player_1 == 'p' and player_2 == 'p'):\n",
        "    print('Its a tie!' )\n",
        "    print('Thanks for playing!')\n",
        "    newgame = input('Would you like to play again? Type No to quit: ')\n",
        "    \n",
        "  elif ('r' in choices) and ('s' in choices): \n",
        "    print('Rock crushes scissors, rock wins!')\n",
        "    print('Thanks for playing!')\n",
        "    newgame = input('Would you like to play again? Type No to quit: ')\n",
        "\n",
        "  elif ('r' in choices) and ('p' in choices): \n",
        "    print('Paper covers rock, paper wins!')\n",
        "    print('Thanks for playing!')\n",
        "    newgame = input('Would you like to play again? Type No to quit: ')\n",
        "\n",
        "  elif ('p' in choices) and ('s' in choices):\n",
        "    print('Scissors cuts paper, scissors wins!')\n",
        "    print('Thanks for playing!')\n",
        "    newgame = input('Would you like to play again? Type No to quit: ')\n",
        "\n",
        "  else:\n",
        "    newgame = input('Start Over! ')"
      ],
      "execution_count": null,
      "outputs": [
        {
          "output_type": "stream",
          "text": [
            "Let's play ROCK, PAPER, SCISSORS!\n",
            "Rock, Paper, Scissors, please choose: r\n",
            "Rock, Paper, Scissors, please choose: r\n",
            "Its a tie!\n",
            "Thanks for playing!\n",
            "Would you like to play again? Type No to quit: yes\n",
            "Rock, Paper, Scissors, please choose: paper\n",
            "Rock, Paper, Scissors, please choose: R\n",
            "Paper covers rock, paper wins!\n",
            "Thanks for playing!\n",
            "Would you like to play again? Type No to quit: yes\n",
            "Rock, Paper, Scissors, please choose: i\n",
            "Invalid entry, please try again!\n",
            "Rock, Paper, Scissors, please choose: i\n",
            "Invalid entry, please try again!\n",
            "Start Over! yes\n",
            "Rock, Paper, Scissors, please choose: s\n",
            "Rock, Paper, Scissors, please choose: p\n",
            "Scissors cuts paper, scissors wins!\n",
            "Thanks for playing!\n",
            "Would you like to play again? Type No to quit: No\n"
          ],
          "name": "stdout"
        }
      ]
    },
    {
      "cell_type": "code",
      "metadata": {
        "id": "Yj7eXfUcVCbP",
        "colab_type": "code",
        "colab": {}
      },
      "source": [
        ""
      ],
      "execution_count": null,
      "outputs": []
    }
  ]
}